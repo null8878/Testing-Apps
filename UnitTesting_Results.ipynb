{
 "cells": [
  {
   "metadata": {},
   "cell_type": "markdown",
   "source": [
    "## Unit Testing Summary\n",
    "\n",
    "I wrote an automated test in a Python script using `assert` statements.\n",
    "\n",
    " - The test passed, confirming `sum([1, 2, 3]) == 6`\n",
    " - A second test failed intentionally to demonstrate what happens when assertions fail.\n",
    "\n",
    "The failed test triggered an `AssertionError`, which shows how Python helps catch bugs by validating the output automatically. This ensures my logic is working as expected.\n"
   ],
   "id": "5940fb633faef428"
  },
  {
   "metadata": {},
   "cell_type": "code",
   "outputs": [],
   "execution_count": null,
   "source": "",
   "id": "b1c3adefecd1cdb8"
  }
 ],
 "metadata": {
  "kernelspec": {
   "display_name": "Python 3",
   "language": "python",
   "name": "python3"
  },
  "language_info": {
   "codemirror_mode": {
    "name": "ipython",
    "version": 2
   },
   "file_extension": ".py",
   "mimetype": "text/x-python",
   "name": "python",
   "nbconvert_exporter": "python",
   "pygments_lexer": "ipython2",
   "version": "2.7.6"
  }
 },
 "nbformat": 4,
 "nbformat_minor": 5
}
